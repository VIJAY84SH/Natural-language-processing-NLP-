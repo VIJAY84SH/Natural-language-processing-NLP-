{
 "cells": [
  {
   "cell_type": "code",
   "execution_count": 1,
   "id": "aeba4d17",
   "metadata": {},
   "outputs": [],
   "source": [
    "import warnings\n",
    "warnings.filterwarnings('ignore')"
   ]
  },
  {
   "cell_type": "code",
   "execution_count": 2,
   "id": "abc9e9bf",
   "metadata": {},
   "outputs": [
    {
     "name": "stderr",
     "output_type": "stream",
     "text": [
      "[nltk_data] Downloading package punkt to\n",
      "[nltk_data]     C:\\Users\\MR.GODHADE\\AppData\\Roaming\\nltk_data...\n",
      "[nltk_data]   Package punkt is already up-to-date!\n"
     ]
    },
    {
     "data": {
      "text/plain": [
       "True"
      ]
     },
     "execution_count": 2,
     "metadata": {},
     "output_type": "execute_result"
    }
   ],
   "source": [
    "import nltk\n",
    "nltk.download('punkt')"
   ]
  },
  {
   "cell_type": "markdown",
   "id": "0aeefff9",
   "metadata": {},
   "source": [
    "### NLTK"
   ]
  },
  {
   "cell_type": "markdown",
   "id": "168c1bc9",
   "metadata": {},
   "source": [
    "NLTK is a leading platform for building Python programs to work with human language data."
   ]
  },
  {
   "cell_type": "markdown",
   "id": "c321d4da",
   "metadata": {},
   "source": [
    "It provides easy-to-use interfaces to over 50 corpora and lexical resources such as WordNet, along with a suite of text processing libraries for classification, tokenization, stemming, tagging, parsing, and semantic reasoning, wrappers for industrial-strength NLP libraries, and an active discussion forum"
   ]
  },
  {
   "cell_type": "code",
   "execution_count": 52,
   "id": "27a92aa4",
   "metadata": {},
   "outputs": [],
   "source": [
    "paragraph = 'this is the NLP NLP session is going on  and finally we are happy. Is everyone happy? I think everyone is happy'"
   ]
  },
  {
   "cell_type": "markdown",
   "id": "5c26797f",
   "metadata": {},
   "source": [
    "### nltk.sent_tokenize()\n",
    "\n"
   ]
  },
  {
   "cell_type": "markdown",
   "id": "44028ed9",
   "metadata": {},
   "source": [
    "This converts the paragraph into sentences as we seen above example"
   ]
  },
  {
   "cell_type": "code",
   "execution_count": 53,
   "id": "15ba4c83",
   "metadata": {},
   "outputs": [
    {
     "data": {
      "text/plain": [
       "['this is the NLP NLP session is going on  and finally we are happy.',\n",
       " 'Is everyone happy?',\n",
       " 'I think everyone is happy']"
      ]
     },
     "execution_count": 53,
     "metadata": {},
     "output_type": "execute_result"
    }
   ],
   "source": [
    "#Tokenization\n",
    "nltk.sent_tokenize(paragraph)"
   ]
  },
  {
   "cell_type": "markdown",
   "id": "949424d3",
   "metadata": {},
   "source": [
    "### nltk.word_tokenize()"
   ]
  },
  {
   "cell_type": "markdown",
   "id": "5b4fd888",
   "metadata": {},
   "source": [
    "This converts the paraghraph into words"
   ]
  },
  {
   "cell_type": "code",
   "execution_count": 54,
   "id": "5ff49053",
   "metadata": {
    "scrolled": false
   },
   "outputs": [
    {
     "data": {
      "text/plain": [
       "['this',\n",
       " 'is',\n",
       " 'the',\n",
       " 'NLP',\n",
       " 'NLP',\n",
       " 'session',\n",
       " 'is',\n",
       " 'going',\n",
       " 'on',\n",
       " 'and',\n",
       " 'finally',\n",
       " 'we',\n",
       " 'are',\n",
       " 'happy',\n",
       " '.',\n",
       " 'Is',\n",
       " 'everyone',\n",
       " 'happy',\n",
       " '?',\n",
       " 'I',\n",
       " 'think',\n",
       " 'everyone',\n",
       " 'is',\n",
       " 'happy']"
      ]
     },
     "execution_count": 54,
     "metadata": {},
     "output_type": "execute_result"
    }
   ],
   "source": [
    "nltk.word_tokenize(paragraph)"
   ]
  },
  {
   "cell_type": "markdown",
   "id": "9cf153c0",
   "metadata": {},
   "source": [
    "### Stemming"
   ]
  },
  {
   "cell_type": "markdown",
   "id": "6c1574a1",
   "metadata": {},
   "source": [
    "Stemming is a text preprocessing technique used in natural language processing (NLP) to reduce words to their root or base form."
   ]
  },
  {
   "cell_type": "code",
   "execution_count": 55,
   "id": "8130ebb9",
   "metadata": {},
   "outputs": [
    {
     "data": {
      "image/png": "[encoded data removed]",
      "text/plain": [
       "<IPython.core.display.Image object>"
      ]
     },
     "execution_count": 55,
     "metadata": {},
     "output_type": "execute_result"
    }
   ],
   "source": [
    "from IPython import display\n",
    "display.Image('download.PNG')"
   ]
  },
  {
   "cell_type": "code",
   "execution_count": 56,
   "id": "5ec6a907",
   "metadata": {},
   "outputs": [],
   "source": [
    "from nltk.stem import PorterStemmer"
   ]
  },
  {
   "cell_type": "markdown",
   "id": "a0cffa8b",
   "metadata": {},
   "source": [
    "<b>PorterStemmer<b>\n",
    "    \n",
    "It help for stemming"
   ]
  },
  {
   "cell_type": "code",
   "execution_count": 57,
   "id": "fba054e3",
   "metadata": {},
   "outputs": [],
   "source": [
    "stemmer = PorterStemmer()"
   ]
  },
  {
   "cell_type": "code",
   "execution_count": 58,
   "id": "8a9df682",
   "metadata": {},
   "outputs": [
    {
     "data": {
      "text/plain": [
       "'go'"
      ]
     },
     "execution_count": 58,
     "metadata": {},
     "output_type": "execute_result"
    }
   ],
   "source": [
    "stemmer.stem('going')"
   ]
  },
  {
   "cell_type": "code",
   "execution_count": 59,
   "id": "66111fb5",
   "metadata": {},
   "outputs": [
    {
     "data": {
      "text/plain": [
       "'final'"
      ]
     },
     "execution_count": 59,
     "metadata": {},
     "output_type": "execute_result"
    }
   ],
   "source": [
    "stemmer.stem('finally')"
   ]
  },
  {
   "cell_type": "markdown",
   "id": "981f0377",
   "metadata": {},
   "source": [
    "### This is the problem with stemming"
   ]
  },
  {
   "cell_type": "code",
   "execution_count": 60,
   "id": "b7d4ce74",
   "metadata": {},
   "outputs": [
    {
     "data": {
      "text/plain": [
       "'organ'"
      ]
     },
     "execution_count": 60,
     "metadata": {},
     "output_type": "execute_result"
    }
   ],
   "source": [
    "stemmer.stem('organization')"
   ]
  },
  {
   "cell_type": "code",
   "execution_count": 61,
   "id": "229746d8",
   "metadata": {},
   "outputs": [
    {
     "data": {
      "text/plain": [
       "'histori'"
      ]
     },
     "execution_count": 61,
     "metadata": {},
     "output_type": "execute_result"
    }
   ],
   "source": [
    "stemmer.stem('history')"
   ]
  },
  {
   "cell_type": "code",
   "execution_count": 62,
   "id": "b3d939c7",
   "metadata": {},
   "outputs": [
    {
     "data": {
      "text/plain": [
       "'happi'"
      ]
     },
     "execution_count": 62,
     "metadata": {},
     "output_type": "execute_result"
    }
   ],
   "source": [
    "stemmer.stem('happy')"
   ]
  },
  {
   "cell_type": "markdown",
   "id": "790bd33e",
   "metadata": {},
   "source": [
    "### Above Problem is overcome by Lemmatization"
   ]
  },
  {
   "cell_type": "markdown",
   "id": "cf3cbc53",
   "metadata": {},
   "source": [
    "<b>Lemmatization<b> \n",
    "    \n",
    "is a text pre-processing technique used in natural language processing (NLP) models to break a word down to its root meaning to identify similarities."
   ]
  },
  {
   "cell_type": "code",
   "execution_count": 63,
   "id": "eb7f0866",
   "metadata": {},
   "outputs": [],
   "source": [
    "from nltk.stem import WordNetLemmatizer"
   ]
  },
  {
   "cell_type": "code",
   "execution_count": 64,
   "id": "7e013373",
   "metadata": {},
   "outputs": [],
   "source": [
    "lemmatizer = WordNetLemmatizer()"
   ]
  },
  {
   "cell_type": "code",
   "execution_count": 65,
   "id": "786c9514",
   "metadata": {},
   "outputs": [
    {
     "data": {
      "text/plain": [
       "'organization'"
      ]
     },
     "execution_count": 65,
     "metadata": {},
     "output_type": "execute_result"
    }
   ],
   "source": [
    "lemmatizer.lemmatize('organizations',pos='n')"
   ]
  },
  {
   "cell_type": "code",
   "execution_count": 66,
   "id": "3597fe98",
   "metadata": {},
   "outputs": [
    {
     "data": {
      "text/plain": [
       "'eat'"
      ]
     },
     "execution_count": 66,
     "metadata": {},
     "output_type": "execute_result"
    }
   ],
   "source": [
    "lemmatizer.lemmatize('eating',pos='v')"
   ]
  },
  {
   "cell_type": "code",
   "execution_count": 67,
   "id": "4953b7f5",
   "metadata": {
    "scrolled": true
   },
   "outputs": [
    {
     "data": {
      "text/plain": [
       "'sweet'"
      ]
     },
     "execution_count": 67,
     "metadata": {},
     "output_type": "execute_result"
    }
   ],
   "source": [
    "lemmatizer.lemmatize('sweets')"
   ]
  },
  {
   "cell_type": "code",
   "execution_count": 68,
   "id": "4e04634e",
   "metadata": {},
   "outputs": [
    {
     "data": {
      "text/plain": [
       "'good'"
      ]
     },
     "execution_count": 68,
     "metadata": {},
     "output_type": "execute_result"
    }
   ],
   "source": [
    "lemmatizer.lemmatize('better',pos='a')"
   ]
  },
  {
   "cell_type": "markdown",
   "id": "15c25146",
   "metadata": {},
   "source": [
    "### Parameter pos"
   ]
  },
  {
   "cell_type": "raw",
   "id": "5b96cfc6",
   "metadata": {},
   "source": [
    " The Part Of Speech tag. Valid options are `\"n\"` for nouns,\n",
    "                                            `\"v\"` for verbs,\n",
    "                                            `\"a\"` for adjectives,\n",
    "                                            `\"r\"` for adverbs and\n",
    "                                            `\"s\"`for satellite adjectives."
   ]
  },
  {
   "cell_type": "markdown",
   "id": "997388d7",
   "metadata": {},
   "source": [
    "### Differrence Between Stemming & Lemmatization"
   ]
  },
  {
   "cell_type": "code",
   "execution_count": 70,
   "id": "42ee669e",
   "metadata": {},
   "outputs": [],
   "source": [
    "paragraph = 'this is the NLP NLP session is going on  and finally we are happy. Is everyone happy? I think everyone is happy'"
   ]
  },
  {
   "cell_type": "code",
   "execution_count": 71,
   "id": "5e06fc34",
   "metadata": {},
   "outputs": [],
   "source": [
    "sentencess = nltk.sent_tokenize(paragraph)"
   ]
  },
  {
   "cell_type": "code",
   "execution_count": 72,
   "id": "b59f0502",
   "metadata": {},
   "outputs": [
    {
     "data": {
      "text/plain": [
       "['this is the NLP NLP session is going on  and finally we are happy.',\n",
       " 'Is everyone happy?',\n",
       " 'I think everyone is happy']"
      ]
     },
     "execution_count": 72,
     "metadata": {},
     "output_type": "execute_result"
    }
   ],
   "source": [
    "sentencess"
   ]
  },
  {
   "cell_type": "markdown",
   "id": "3c436836",
   "metadata": {},
   "source": [
    "### Applied stemming on paragraph"
   ]
  },
  {
   "cell_type": "code",
   "execution_count": 73,
   "id": "36d76337",
   "metadata": {},
   "outputs": [],
   "source": [
    "corpus = []\n",
    "for i in range(len(sentencess)):\n",
    "    words = nltk.word_tokenize(sentencess[i])\n",
    "    words = [stemmer.stem(word) for word in words]\n",
    "    corpus.append(' '.join(words))"
   ]
  },
  {
   "cell_type": "code",
   "execution_count": 74,
   "id": "f06569a0",
   "metadata": {},
   "outputs": [
    {
     "data": {
      "text/plain": [
       "['thi is the nlp nlp session is go on and final we are happi .',\n",
       " 'is everyon happi ?',\n",
       " 'i think everyon is happi']"
      ]
     },
     "execution_count": 74,
     "metadata": {},
     "output_type": "execute_result"
    }
   ],
   "source": [
    "corpus   # Meaning may chane"
   ]
  },
  {
   "cell_type": "markdown",
   "id": "73a2d7c9",
   "metadata": {},
   "source": [
    "### Applied Lemmatization on paragraph"
   ]
  },
  {
   "cell_type": "code",
   "execution_count": 75,
   "id": "54ac931f",
   "metadata": {},
   "outputs": [],
   "source": [
    "corpus = []\n",
    "for i in range(len(sentencess)):\n",
    "    words = nltk.word_tokenize(sentencess[i])\n",
    "    words = [lemmatizer.lemmatize(word) for word in words]\n",
    "    corpus.append(' '.join(words))"
   ]
  },
  {
   "cell_type": "code",
   "execution_count": 76,
   "id": "3852221a",
   "metadata": {},
   "outputs": [
    {
     "data": {
      "text/plain": [
       "['this is the NLP NLP session is going on and finally we are happy .',\n",
       " 'Is everyone happy ?',\n",
       " 'I think everyone is happy']"
      ]
     },
     "execution_count": 76,
     "metadata": {},
     "output_type": "execute_result"
    }
   ],
   "source": [
    "corpus    # Meaningful words"
   ]
  },
  {
   "cell_type": "markdown",
   "id": "a1e2d039",
   "metadata": {},
   "source": [
    "### StopWords"
   ]
  },
  {
   "cell_type": "markdown",
   "id": "e9c1e956",
   "metadata": {},
   "source": [
    "In natural language processing (NLP), \"stopwords\" are words that are commonly used in a language but are often filtered out or ignored during text processing because they are considered to have little or no meaningful information."
   ]
  },
  {
   "cell_type": "markdown",
   "id": "597fea8d",
   "metadata": {},
   "source": [
    "Examples of stopwords in English include words like \"the,\" \"and,\" \"in,\" \"is,\" \"at,\" \"it,\" \"on,\" and so on."
   ]
  },
  {
   "cell_type": "code",
   "execution_count": 77,
   "id": "e8f34260",
   "metadata": {},
   "outputs": [
    {
     "name": "stderr",
     "output_type": "stream",
     "text": [
      "[nltk_data] Downloading package stopwords to\n",
      "[nltk_data]     C:\\Users\\MR.GODHADE\\AppData\\Roaming\\nltk_data...\n",
      "[nltk_data]   Package stopwords is already up-to-date!\n"
     ]
    },
    {
     "data": {
      "text/plain": [
       "True"
      ]
     },
     "execution_count": 77,
     "metadata": {},
     "output_type": "execute_result"
    }
   ],
   "source": [
    "nltk.download('stopwords')"
   ]
  },
  {
   "cell_type": "code",
   "execution_count": 78,
   "id": "8cee1d10",
   "metadata": {},
   "outputs": [],
   "source": [
    "from nltk.corpus import stopwords"
   ]
  },
  {
   "cell_type": "code",
   "execution_count": 79,
   "id": "283d425d",
   "metadata": {},
   "outputs": [],
   "source": [
    "stop_words = stopwords.words('english')"
   ]
  },
  {
   "cell_type": "code",
   "execution_count": 80,
   "id": "14e16a27",
   "metadata": {},
   "outputs": [
    {
     "data": {
      "text/plain": [
       "['i',\n",
       " 'me',\n",
       " 'my',\n",
       " 'myself',\n",
       " 'we',\n",
       " 'our',\n",
       " 'ours',\n",
       " 'ourselves',\n",
       " 'you',\n",
       " \"you're\",\n",
       " \"you've\",\n",
       " \"you'll\",\n",
       " \"you'd\",\n",
       " 'your',\n",
       " 'yours',\n",
       " 'yourself',\n",
       " 'yourselves',\n",
       " 'he',\n",
       " 'him',\n",
       " 'his',\n",
       " 'himself',\n",
       " 'she',\n",
       " \"she's\",\n",
       " 'her',\n",
       " 'hers',\n",
       " 'herself',\n",
       " 'it',\n",
       " \"it's\",\n",
       " 'its',\n",
       " 'itself',\n",
       " 'they',\n",
       " 'them',\n",
       " 'their',\n",
       " 'theirs',\n",
       " 'themselves',\n",
       " 'what',\n",
       " 'which',\n",
       " 'who',\n",
       " 'whom',\n",
       " 'this',\n",
       " 'that',\n",
       " \"that'll\",\n",
       " 'these',\n",
       " 'those',\n",
       " 'am',\n",
       " 'is',\n",
       " 'are',\n",
       " 'was',\n",
       " 'were',\n",
       " 'be',\n",
       " 'been',\n",
       " 'being',\n",
       " 'have',\n",
       " 'has',\n",
       " 'had',\n",
       " 'having',\n",
       " 'do',\n",
       " 'does',\n",
       " 'did',\n",
       " 'doing',\n",
       " 'a',\n",
       " 'an',\n",
       " 'the',\n",
       " 'and',\n",
       " 'but',\n",
       " 'if',\n",
       " 'or',\n",
       " 'because',\n",
       " 'as',\n",
       " 'until',\n",
       " 'while',\n",
       " 'of',\n",
       " 'at',\n",
       " 'by',\n",
       " 'for',\n",
       " 'with',\n",
       " 'about',\n",
       " 'against',\n",
       " 'between',\n",
       " 'into',\n",
       " 'through',\n",
       " 'during',\n",
       " 'before',\n",
       " 'after',\n",
       " 'above',\n",
       " 'below',\n",
       " 'to',\n",
       " 'from',\n",
       " 'up',\n",
       " 'down',\n",
       " 'in',\n",
       " 'out',\n",
       " 'on',\n",
       " 'off',\n",
       " 'over',\n",
       " 'under',\n",
       " 'again',\n",
       " 'further',\n",
       " 'then',\n",
       " 'once',\n",
       " 'here',\n",
       " 'there',\n",
       " 'when',\n",
       " 'where',\n",
       " 'why',\n",
       " 'how',\n",
       " 'all',\n",
       " 'any',\n",
       " 'both',\n",
       " 'each',\n",
       " 'few',\n",
       " 'more',\n",
       " 'most',\n",
       " 'other',\n",
       " 'some',\n",
       " 'such',\n",
       " 'no',\n",
       " 'nor',\n",
       " 'not',\n",
       " 'only',\n",
       " 'own',\n",
       " 'same',\n",
       " 'so',\n",
       " 'than',\n",
       " 'too',\n",
       " 'very',\n",
       " 's',\n",
       " 't',\n",
       " 'can',\n",
       " 'will',\n",
       " 'just',\n",
       " 'don',\n",
       " \"don't\",\n",
       " 'should',\n",
       " \"should've\",\n",
       " 'now',\n",
       " 'd',\n",
       " 'll',\n",
       " 'm',\n",
       " 'o',\n",
       " 're',\n",
       " 've',\n",
       " 'y',\n",
       " 'ain',\n",
       " 'aren',\n",
       " \"aren't\",\n",
       " 'couldn',\n",
       " \"couldn't\",\n",
       " 'didn',\n",
       " \"didn't\",\n",
       " 'doesn',\n",
       " \"doesn't\",\n",
       " 'hadn',\n",
       " \"hadn't\",\n",
       " 'hasn',\n",
       " \"hasn't\",\n",
       " 'haven',\n",
       " \"haven't\",\n",
       " 'isn',\n",
       " \"isn't\",\n",
       " 'ma',\n",
       " 'mightn',\n",
       " \"mightn't\",\n",
       " 'mustn',\n",
       " \"mustn't\",\n",
       " 'needn',\n",
       " \"needn't\",\n",
       " 'shan',\n",
       " \"shan't\",\n",
       " 'shouldn',\n",
       " \"shouldn't\",\n",
       " 'wasn',\n",
       " \"wasn't\",\n",
       " 'weren',\n",
       " \"weren't\",\n",
       " 'won',\n",
       " \"won't\",\n",
       " 'wouldn',\n",
       " \"wouldn't\"]"
      ]
     },
     "execution_count": 80,
     "metadata": {},
     "output_type": "execute_result"
    }
   ],
   "source": [
    "stop_words"
   ]
  },
  {
   "cell_type": "markdown",
   "id": "24baad1e",
   "metadata": {},
   "source": [
    "### Remove stopwords from paragraph"
   ]
  },
  {
   "cell_type": "code",
   "execution_count": 81,
   "id": "e4521610",
   "metadata": {},
   "outputs": [],
   "source": [
    "paragraph = 'this is the NLP session is going on  and finally we are happy. Is everyone happy? I think everyone is happy'"
   ]
  },
  {
   "cell_type": "code",
   "execution_count": 82,
   "id": "240d3e04",
   "metadata": {},
   "outputs": [],
   "source": [
    "import re"
   ]
  },
  {
   "cell_type": "code",
   "execution_count": 83,
   "id": "115481b9",
   "metadata": {},
   "outputs": [
    {
     "name": "stdout",
     "output_type": "stream",
     "text": [
      "['nlp', 'nlp', 'session', 'going', 'finally', 'happy']\n",
      "['everyone', 'happy']\n",
      "['think', 'everyone', 'happy']\n"
     ]
    }
   ],
   "source": [
    "corpus = []\n",
    "for i in range(len(sentencess)):\n",
    "    text = re.sub('[^a-zA-Z0-9]',\" \",sentencess[i])\n",
    "    text = text.lower()\n",
    "    words = text.split()\n",
    "    words = [lemmatizer.lemmatize(word) for word in words if not word in stop_words]\n",
    "    print(words)\n",
    "    corpus.append(' '.join(words))"
   ]
  },
  {
   "cell_type": "code",
   "execution_count": null,
   "id": "93f7caee",
   "metadata": {},
   "outputs": [],
   "source": []
  },
  {
   "cell_type": "code",
   "execution_count": 84,
   "id": "d2043dd2",
   "metadata": {},
   "outputs": [],
   "source": [
    "from sklearn.feature_extraction.text import CountVectorizer"
   ]
  },
  {
   "cell_type": "code",
   "execution_count": 85,
   "id": "f8648863",
   "metadata": {},
   "outputs": [],
   "source": [
    "cv = CountVectorizer()"
   ]
  },
  {
   "cell_type": "code",
   "execution_count": 86,
   "id": "a820d5e0",
   "metadata": {},
   "outputs": [
    {
     "data": {
      "text/plain": [
       "array([[0, 1, 1, 1, 2, 1, 0],\n",
       "       [1, 0, 0, 1, 0, 0, 0],\n",
       "       [1, 0, 0, 1, 0, 0, 1]], dtype=int64)"
      ]
     },
     "execution_count": 86,
     "metadata": {},
     "output_type": "execute_result"
    }
   ],
   "source": [
    "# Applied BOW()\n",
    "cv.fit_transform(corpus).toarray()"
   ]
  },
  {
   "cell_type": "markdown",
   "id": "141e6bee",
   "metadata": {},
   "source": [
    "### binary = True"
   ]
  },
  {
   "cell_type": "code",
   "execution_count": 88,
   "id": "1c020be0",
   "metadata": {},
   "outputs": [],
   "source": [
    "cv = CountVectorizer(binary = True)"
   ]
  },
  {
   "cell_type": "code",
   "execution_count": 89,
   "id": "6a39e1af",
   "metadata": {},
   "outputs": [
    {
     "data": {
      "text/plain": [
       "array([[0, 1, 1, 1, 1, 1, 0],\n",
       "       [1, 0, 0, 1, 0, 0, 0],\n",
       "       [1, 0, 0, 1, 0, 0, 1]], dtype=int64)"
      ]
     },
     "execution_count": 89,
     "metadata": {},
     "output_type": "execute_result"
    }
   ],
   "source": [
    "cv.fit_transform(corpus).toarray()  # 2 is converted 1"
   ]
  },
  {
   "cell_type": "code",
   "execution_count": 87,
   "id": "3440dd95",
   "metadata": {},
   "outputs": [
    {
     "data": {
      "text/plain": [
       "{'nlp': 4,\n",
       " 'session': 5,\n",
       " 'going': 2,\n",
       " 'finally': 1,\n",
       " 'happy': 3,\n",
       " 'everyone': 0,\n",
       " 'think': 6}"
      ]
     },
     "execution_count": 87,
     "metadata": {},
     "output_type": "execute_result"
    }
   ],
   "source": [
    "cv.vocabulary_"
   ]
  },
  {
   "cell_type": "markdown",
   "id": "6bce75a1",
   "metadata": {},
   "source": [
    "### N-gram"
   ]
  },
  {
   "cell_type": "code",
   "execution_count": 97,
   "id": "7d475d88",
   "metadata": {},
   "outputs": [],
   "source": [
    "cv = CountVectorizer(ngram_range=(2,2))"
   ]
  },
  {
   "cell_type": "code",
   "execution_count": 98,
   "id": "5295216c",
   "metadata": {},
   "outputs": [
    {
     "data": {
      "text/plain": [
       "<3x7 sparse matrix of type '<class 'numpy.int64'>'\n",
       "\twith 8 stored elements in Compressed Sparse Row format>"
      ]
     },
     "execution_count": 98,
     "metadata": {},
     "output_type": "execute_result"
    }
   ],
   "source": [
    "cv.fit_transform(corpus)"
   ]
  },
  {
   "cell_type": "code",
   "execution_count": 99,
   "id": "e6550956",
   "metadata": {},
   "outputs": [
    {
     "data": {
      "text/plain": [
       "{'nlp nlp': 3,\n",
       " 'nlp session': 4,\n",
       " 'session going': 5,\n",
       " 'going finally': 2,\n",
       " 'finally happy': 1,\n",
       " 'everyone happy': 0,\n",
       " 'think everyone': 6}"
      ]
     },
     "execution_count": 99,
     "metadata": {},
     "output_type": "execute_result"
    }
   ],
   "source": [
    "cv.vocabulary_"
   ]
  },
  {
   "cell_type": "markdown",
   "id": "cc120287",
   "metadata": {},
   "source": [
    "### Term Frequency -Inverse Document Frequency(TF-IDF)"
   ]
  },
  {
   "cell_type": "code",
   "execution_count": 100,
   "id": "6680df3f",
   "metadata": {},
   "outputs": [],
   "source": [
    "from sklearn.feature_extraction.text import TfidfVectorizer"
   ]
  },
  {
   "cell_type": "code",
   "execution_count": 101,
   "id": "790eb1b8",
   "metadata": {},
   "outputs": [],
   "source": [
    "tf_idf = TfidfVectorizer()"
   ]
  },
  {
   "cell_type": "code",
   "execution_count": 103,
   "id": "ec12d993",
   "metadata": {},
   "outputs": [
    {
     "data": {
      "text/plain": [
       "array([[0.        , 0.36888498, 0.36888498, 0.21786941, 0.73776997,\n",
       "        0.36888498, 0.        ],\n",
       "       [0.78980693, 0.        , 0.        , 0.61335554, 0.        ,\n",
       "        0.        , 0.        ],\n",
       "       [0.54783215, 0.        , 0.        , 0.42544054, 0.        ,\n",
       "        0.        , 0.72033345]])"
      ]
     },
     "execution_count": 103,
     "metadata": {},
     "output_type": "execute_result"
    }
   ],
   "source": [
    "tf_idf.fit_transform(corpus).toarray()"
   ]
  },
  {
   "cell_type": "code",
   "execution_count": 104,
   "id": "3f4e9e20",
   "metadata": {},
   "outputs": [
    {
     "data": {
      "text/plain": [
       "{'nlp': 4,\n",
       " 'session': 5,\n",
       " 'going': 2,\n",
       " 'finally': 1,\n",
       " 'happy': 3,\n",
       " 'everyone': 0,\n",
       " 'think': 6}"
      ]
     },
     "execution_count": 104,
     "metadata": {},
     "output_type": "execute_result"
    }
   ],
   "source": [
    "tf_idf.vocabulary_"
   ]
  },
  {
   "cell_type": "markdown",
   "id": "613f0721",
   "metadata": {},
   "source": [
    "### new test data 1"
   ]
  },
  {
   "cell_type": "code",
   "execution_count": 109,
   "id": "6925db71",
   "metadata": {},
   "outputs": [
    {
     "data": {
      "text/plain": [
       "array([[0, 0, 0, 0, 0, 0, 0]], dtype=int64)"
      ]
     },
     "execution_count": 109,
     "metadata": {},
     "output_type": "execute_result"
    }
   ],
   "source": [
    "data = ['i want to have food']   # no single word is related\n",
    "\n",
    "cv.transform(data).toarray()"
   ]
  },
  {
   "cell_type": "markdown",
   "id": "d62928e5",
   "metadata": {},
   "source": [
    "### new test data 2"
   ]
  },
  {
   "cell_type": "code",
   "execution_count": 110,
   "id": "be2ea125",
   "metadata": {},
   "outputs": [
    {
     "data": {
      "text/plain": [
       "array([[0, 0, 0, 0, 1, 0, 0]], dtype=int64)"
      ]
     },
     "execution_count": 110,
     "metadata": {},
     "output_type": "execute_result"
    }
   ],
   "source": [
    "data = ['i want to attend NLP session']  # NLP word is related to Train data\n",
    "\n",
    "cv.transform(data).toarray()"
   ]
  },
  {
   "cell_type": "code",
   "execution_count": null,
   "id": "afe6a891",
   "metadata": {},
   "outputs": [],
   "source": []
  }
 ],
 "metadata": {
  "kernelspec": {
   "display_name": "Python 3 (ipykernel)",
   "language": "python",
   "name": "python3"
  },
  "language_info": {
   "codemirror_mode": {
    "name": "ipython",
    "version": 3
   },
   "file_extension": ".py",
   "mimetype": "text/x-python",
   "name": "python",
   "nbconvert_exporter": "python",
   "pygments_lexer": "ipython3",
   "version": "3.9.13"
  }
 },
 "nbformat": 4,
 "nbformat_minor": 5
}
